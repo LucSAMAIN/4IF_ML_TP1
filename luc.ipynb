{
 "cells": [
  {
   "cell_type": "code",
   "execution_count": 22,
   "metadata": {},
   "outputs": [],
   "source": [
    "import pandas as pd\n",
    "import os\n",
    "\n",
    "from sklearn.linear_model import LinearRegression\n",
    "from sklearn.preprocessing import LabelEncoder"
   ]
  },
  {
   "cell_type": "code",
   "execution_count": null,
   "metadata": {},
   "outputs": [
    {
     "name": "stdout",
     "output_type": "stream",
     "text": [
      "   id     brand                                model car_class      range  \\\n",
      "0   0  MERCEDES                        COMBI 110 CDI   MINIBUS  MOY-INFER   \n",
      "1   1  MERCEDES                        VIANO 2.0 CDI   MINIBUS  MOY-SUPER   \n",
      "2   2  MERCEDES               SPRINTER COMBI 319 CDI   MINIBUS  MOY-INFER   \n",
      "3   3   RENAULT  MEGANE Coupé EnergyTCe (115ch) eco2     COUPE  MOY-INFER   \n",
      "4   4  MERCEDES                        COMBI 116 CDI   MINIBUS  MOY-INFER   \n",
      "\n",
      "  fuel_type hybrid  max_power grbx_type_ratios  weight_min  weight_max  \\\n",
      "0        GO    non       70.0              M 6        1976        2075   \n",
      "1        GO    non      100.0              A 5        2186        2355   \n",
      "2        GO    non      140.0              A 5        2586        2869   \n",
      "3        ES    non       85.0              M 6        1280        1280   \n",
      "4        GO    non      120.0              A 5        2356        2450   \n",
      "\n",
      "   urb_cons  exturb_cons  overall_cons     co     hc    nox  hcnox   ptcl  co2  \n",
      "0       9.1          6.4           7.4  0.083    NaN  0.229  0.250  0.001  195  \n",
      "1      10.2          7.0           8.2  0.078    NaN  0.224  0.233  0.001  216  \n",
      "2      12.5          9.0          10.3  0.067  0.014  1.846    NaN  0.002  272  \n",
      "3       6.4          4.6           5.3  0.167  0.039  0.039    NaN  0.001  119  \n",
      "4      10.1          6.9           8.1  0.042    NaN  0.190  0.201  0.001  214  \n"
     ]
    }
   ],
   "source": [
    "\"\"\"\n",
    "Chargement des données:\n",
    "\"\"\"\n",
    "sample_df = pd.read_csv('insa-ml-2025-regression/sample_submission.csv')\n",
    "train_df = pd.read_csv('insa-ml-2025-regression/train.csv')\n",
    "test_df = pd.read_csv('insa-ml-2025-regression/test.csv')\n",
    "\n",
    "print(\"Data après chargement:\")\n",
    "print(train_df.head())"
   ]
  },
  {
   "cell_type": "code",
   "execution_count": null,
   "metadata": {},
   "outputs": [
    {
     "name": "stdout",
     "output_type": "stream",
     "text": [
      "        id  brand  model  car_class  range  fuel_type  hybrid  max_power  \\\n",
      "501    501     16   2992         10      5         10       0      147.0   \n",
      "1700  1700     16   2990         10      5         10       0      147.0   \n",
      "1845  1845     16   2992         10      5         10       0      147.0   \n",
      "3767  3767     16   2993         10      5         10       0      147.0   \n",
      "4386  4386     16   2993         10      5         10       0      147.0   \n",
      "\n",
      "      grbx_type_ratios  weight_min  weight_max  urb_cons  exturb_cons  \\\n",
      "501                  1        2073        2253      10.0          7.3   \n",
      "1700                10        2128        2238       9.6          7.5   \n",
      "1845                 1        2073        2253      10.0          7.3   \n",
      "3767                 1        2073        2253      10.3          7.9   \n",
      "4386                 1        2073        2253      10.3          7.9   \n",
      "\n",
      "      overall_cons     co     hc    nox  hcnox  ptcl  co2  \n",
      "501            8.3  0.042  0.013  0.175  0.189   0.0  217  \n",
      "1700           8.3  0.109  0.023  0.135  0.161   0.0  217  \n",
      "1845           8.3  0.042  0.013  0.175  0.189   0.0  217  \n",
      "3767           8.8  0.042  0.013  0.175  0.189   0.0  230  \n",
      "4386           8.8  0.042  0.013  0.175  0.189   0.0  230  \n"
     ]
    }
   ],
   "source": [
    "\"\"\"\n",
    "Prétraitement des données:\n",
    "\"\"\"\n",
    "\n",
    "colonnes_string = ['brand', 'model', 'car_class', 'fuel_type', 'hybrid', 'grbx_type_ratios', 'range']\n",
    "\n",
    "# Conversion des colonnes en type 'category'\n",
    "for colonne in colonnes_string:\n",
    "    le = LabelEncoder()\n",
    "    train_df[colonne] = le.fit_transform(train_df[colonne])\n",
    "    test_df[colonne] = le.fit_transform(test_df[colonne])\n",
    "    \n",
    "test_df, train_df = test_df.dropna(), train_df.dropna()\n",
    "\n",
    "print(\"Data post traitement:\")\n",
    "print(train_df.head())\n",
    "\n"
   ]
  },
  {
   "cell_type": "code",
   "execution_count": 25,
   "metadata": {},
   "outputs": [],
   "source": [
    "\"\"\" \n",
    "Jeu de données:\n",
    "\"\"\"\n",
    "X_train = train_df[[col for col in train_df.columns if col != 'co2' and col != 'id']]\n",
    "Y_train = train_df['co2']\n",
    "\n",
    "X_test = test_df[[col for col in test_df.columns if col != 'id']]"
   ]
  },
  {
   "cell_type": "code",
   "execution_count": 26,
   "metadata": {},
   "outputs": [
    {
     "name": "stdout",
     "output_type": "stream",
     "text": [
      "0.9998197893661158\n"
     ]
    }
   ],
   "source": [
    "\n",
    "\"\"\"\n",
    "Régressions:\n",
    "\"\"\"\n",
    "reg = LinearRegression().fit(X_train, Y_train)\n",
    "print(reg.score(X_train, Y_train))"
   ]
  }
 ],
 "metadata": {
  "kernelspec": {
   "display_name": ".venv",
   "language": "python",
   "name": "python3"
  },
  "language_info": {
   "codemirror_mode": {
    "name": "ipython",
    "version": 3
   },
   "file_extension": ".py",
   "mimetype": "text/x-python",
   "name": "python",
   "nbconvert_exporter": "python",
   "pygments_lexer": "ipython3",
   "version": "3.11.2"
  }
 },
 "nbformat": 4,
 "nbformat_minor": 2
}
